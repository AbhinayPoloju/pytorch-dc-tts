{
  "nbformat": 4,
  "nbformat_minor": 0,
  "metadata": {
    "colab": {
      "name": "MongolianTTS.ipynb",
      "version": "0.3.2",
      "provenance": []
    },
    "kernelspec": {
      "name": "python3",
      "display_name": "Python 3"
    }
  },
  "cells": [
    {
      "metadata": {
        "id": "YmNSTzuGFiDj",
        "colab_type": "text"
      },
      "cell_type": "markdown",
      "source": [
        "# Mongolian Text To Speech\n",
        "\n",
        "This is an open source Mongolian text to speech implementing the paper:\n",
        "```\n",
        "Hideyuki Tachibana, Katsuya Uenoyama, Shunsuke Aihara\n",
        "Efficiently Trainable Text-to-Speech System Based on Deep Convolutional Networks with Guided Attention\n",
        "https://arxiv.org/abs/1710.08969\n",
        "```\n",
        "\n",
        "The Mongolian Bible audio book is used as the training dataset."
      ]
    },
    {
      "metadata": {
        "id": "N4vqXzZI2fro",
        "colab_type": "text"
      },
      "cell_type": "markdown",
      "source": [
        "## Setup\n",
        "\n",
        "### Install dependencies"
      ]
    },
    {
      "metadata": {
        "id": "G4-CKFr22uBB",
        "colab_type": "code",
        "colab": {}
      },
      "cell_type": "code",
      "source": [
        "import os\n",
        "from os.path import exists, join, expanduser\n",
        "\n",
        "project_name = \"pytorch-dc-tts\"\n",
        "if not exists(project_name):\n",
        "  ! git clone --quiet https://github.com/tugstugi/$project_name"
      ],
      "execution_count": 0,
      "outputs": []
    },
    {
      "metadata": {
        "id": "DXTz7S0H3K9r",
        "colab_type": "code",
        "colab": {}
      },
      "cell_type": "code",
      "source": [
        "! cd ~/$project_name && pip install -q -r requirements.txt"
      ],
      "execution_count": 0,
      "outputs": []
    },
    {
      "metadata": {
        "id": "n5XKzALS3P1r",
        "colab_type": "text"
      },
      "cell_type": "markdown",
      "source": [
        "### Download pretrained models"
      ]
    },
    {
      "metadata": {
        "id": "Dc5b0-HV3eh7",
        "colab_type": "code",
        "colab": {}
      },
      "cell_type": "code",
      "source": [
        "! cd ~/$project_name\n",
        "\n",
        "# download text2mel\n",
        "if not exists(\"text2mel.pth\"):\n",
        "  ! wget -q -O text2mel.pth https://www.dropbox.com/s/wu26k6tu5hz8hq1/step-200K.pth\n",
        "\n",
        "# download SSRN\n",
        "if not exists(\"ssrn.pth\"):\n",
        "  ! wget -q -O ssrn.pth https://www.dropbox.com/s/tel0xcqa7kkwqze/step-165K.pth"
      ],
      "execution_count": 0,
      "outputs": []
    },
    {
      "metadata": {
        "id": "TiZA7qgn7kCj",
        "colab_type": "text"
      },
      "cell_type": "markdown",
      "source": [
        "## Synthesize\n",
        "\n",
        "### Prepare models\n"
      ]
    },
    {
      "metadata": {
        "id": "LjqMQn2y6j58",
        "colab_type": "code",
        "colab": {}
      },
      "cell_type": "code",
      "source": [
        "import sys\n",
        "sys.path.append(join(expanduser(\"~\"), project_name))\n",
        "\n",
        "import warnings\n",
        "warnings.filterwarnings(\"ignore\")  # ignore warnings in this notebook\n",
        "\n",
        "import numpy as np\n",
        "import torch\n",
        "\n",
        "from tqdm import *\n",
        "import IPython\n",
        "from IPython.display import Audio\n",
        "\n",
        "from hparams import HParams as hp\n",
        "from audio import save_to_wav\n",
        "from models import Text2Mel, SSRN\n",
        "from datasets.mb_speech import vocab, idx2char, get_test_data"
      ],
      "execution_count": 0,
      "outputs": []
    },
    {
      "metadata": {
        "id": "eVxfJD6I7yca",
        "colab_type": "code",
        "colab": {}
      },
      "cell_type": "code",
      "source": [
        "torch.set_grad_enabled(False)\n",
        "text2mel = torch.load(\"text2mel.pth\").eval()\n",
        "ssrn = torch.load(\"ssrn.pth\").eval()"
      ],
      "execution_count": 0,
      "outputs": []
    },
    {
      "metadata": {
        "id": "h_VB9q8q_Wq1",
        "colab_type": "text"
      },
      "cell_type": "markdown",
      "source": [
        "### Allowed characters\n",
        "\n",
        "абвгдеёжзийклмноөпрстуүфхцчшъыьэюя-.,!?\n",
        "\n",
        "### Sentences to synthesize"
      ]
    },
    {
      "metadata": {
        "id": "GtgxZbfG_DgM",
        "colab_type": "code",
        "colab": {}
      },
      "cell_type": "code",
      "source": [
        "SENTENCES = [\n",
        "    \"Хэнтий, Хангай, Соёны өндөр сайхан нуруунууд. Хойд зүгийн чимэг болсон ой хөвч уулнууд.\",\n",
        "    \"Мэнэн, Шарга, Номины өргөн их говиуд. Өмнө зүгийн манлай болсон элсэн манхан далайнууд.\", \n",
        "    \"Энэ бол миний төрсөн нутаг. Монголын сайхан орон.\"\n",
        "]"
      ],
      "execution_count": 0,
      "outputs": []
    },
    {
      "metadata": {
        "id": "yT7GG7OA_0Tp",
        "colab_type": "text"
      },
      "cell_type": "markdown",
      "source": [
        "### Synthetize on CPU"
      ]
    },
    {
      "metadata": {
        "id": "jLU2p4Gq_12d",
        "colab_type": "code",
        "colab": {}
      },
      "cell_type": "code",
      "source": [
        "# synthetize by one by one because there is a batch processing bug!\n",
        "for i in range(len(SENTENCES)):\n",
        "    sentence = SENTENCES[i]\n",
        "    normalized_sentence = \"\".join([c if c.lower() in vocab else '' for c in sentence])\n",
        "    print(normalized_sentence)\n",
        "    \n",
        "    sentences = [normalized_sentence]\n",
        "    max_N = len(normalized_sentence)\n",
        "    L = torch.from_numpy(get_test_data(sentences, max_N))\n",
        "    zeros = torch.from_numpy(np.zeros((1, hp.n_mels, 1), np.float32))\n",
        "    Y = zeros\n",
        "    A = None\n",
        "\n",
        "    for t in range(hp.max_T):\n",
        "      _, Y_t, A = text2mel(L, Y, monotonic_attention=True)\n",
        "      Y = torch.cat((zeros, Y_t), -1)\n",
        "      _, attention = torch.max(A[0, :, -1], 0)\n",
        "      attention = attention.item()\n",
        "      if L[0, attention] == vocab.index('E'):  # EOS\n",
        "          break\n",
        "\n",
        "    _, Z = ssrn(Y)\n",
        "    \n",
        "    Z = Z.cpu().detach().numpy()\n",
        "    save_to_wav(Z[0, :, :].T, '%d.wav' % (i + 1))\n",
        "    IPython.display.display(Audio('%d.wav' % (i + 1), rate=hp.sr))"
      ],
      "execution_count": 0,
      "outputs": []
    }
  ]
}